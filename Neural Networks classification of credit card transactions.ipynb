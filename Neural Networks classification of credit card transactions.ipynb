{
 "cells": [
  {
   "cell_type": "markdown",
   "metadata": {},
   "source": [
    "# Neural Networks  For Classification Of Credit Card Transactions"
   ]
  },
  {
   "cell_type": "markdown",
   "metadata": {},
   "source": [
    "#### Installing TensorFlow to build a neural network "
   ]
  },
  {
   "cell_type": "code",
   "execution_count": 1,
   "metadata": {},
   "outputs": [
    {
     "name": "stdout",
     "output_type": "stream",
     "text": [
      "Requirement already satisfied: tensorflow in e:\\users\\vaishnavi m shetty\\anaconda3\\lib\\site-packages (2.3.0)\n",
      "Requirement already satisfied: tensorflow-estimator<2.4.0,>=2.3.0 in e:\\users\\vaishnavi m shetty\\anaconda3\\lib\\site-packages (from tensorflow) (2.3.0)\n",
      "Requirement already satisfied: opt-einsum>=2.3.2 in e:\\users\\vaishnavi m shetty\\anaconda3\\lib\\site-packages (from tensorflow) (3.3.0)\n",
      "Requirement already satisfied: grpcio>=1.8.6 in e:\\users\\vaishnavi m shetty\\anaconda3\\lib\\site-packages (from tensorflow) (1.32.0)\n",
      "Requirement already satisfied: scipy==1.4.1 in e:\\users\\vaishnavi m shetty\\anaconda3\\lib\\site-packages (from tensorflow) (1.4.1)\n",
      "Requirement already satisfied: keras-preprocessing<1.2,>=1.1.1 in e:\\users\\vaishnavi m shetty\\anaconda3\\lib\\site-packages (from tensorflow) (1.1.2)\n",
      "Requirement already satisfied: google-pasta>=0.1.8 in e:\\users\\vaishnavi m shetty\\anaconda3\\lib\\site-packages (from tensorflow) (0.2.0)\n",
      "Requirement already satisfied: numpy<1.19.0,>=1.16.0 in e:\\users\\vaishnavi m shetty\\anaconda3\\lib\\site-packages (from tensorflow) (1.18.5)\n",
      "Requirement already satisfied: tensorboard<3,>=2.3.0 in e:\\users\\vaishnavi m shetty\\anaconda3\\lib\\site-packages (from tensorflow) (2.3.0)\n",
      "Requirement already satisfied: termcolor>=1.1.0 in e:\\users\\vaishnavi m shetty\\anaconda3\\lib\\site-packages (from tensorflow) (1.1.0)\n",
      "Requirement already satisfied: wrapt>=1.11.1 in e:\\users\\vaishnavi m shetty\\anaconda3\\lib\\site-packages (from tensorflow) (1.11.2)\n",
      "Requirement already satisfied: gast==0.3.3 in e:\\users\\vaishnavi m shetty\\anaconda3\\lib\\site-packages (from tensorflow) (0.3.3)\n",
      "Requirement already satisfied: h5py<2.11.0,>=2.10.0 in e:\\users\\vaishnavi m shetty\\anaconda3\\lib\\site-packages (from tensorflow) (2.10.0)\n",
      "Requirement already satisfied: absl-py>=0.7.0 in e:\\users\\vaishnavi m shetty\\anaconda3\\lib\\site-packages (from tensorflow) (0.10.0)\n",
      "Requirement already satisfied: protobuf>=3.9.2 in e:\\users\\vaishnavi m shetty\\anaconda3\\lib\\site-packages (from tensorflow) (3.13.0)\n",
      "Requirement already satisfied: wheel>=0.26 in e:\\users\\vaishnavi m shetty\\anaconda3\\lib\\site-packages (from tensorflow) (0.34.2)\n",
      "Requirement already satisfied: six>=1.12.0 in e:\\users\\vaishnavi m shetty\\anaconda3\\lib\\site-packages (from tensorflow) (1.15.0)\n",
      "Requirement already satisfied: astunparse==1.6.3 in e:\\users\\vaishnavi m shetty\\anaconda3\\lib\\site-packages (from tensorflow) (1.6.3)\n",
      "Requirement already satisfied: requests<3,>=2.21.0 in e:\\users\\vaishnavi m shetty\\anaconda3\\lib\\site-packages (from tensorboard<3,>=2.3.0->tensorflow) (2.24.0)\n",
      "Requirement already satisfied: setuptools>=41.0.0 in e:\\users\\vaishnavi m shetty\\anaconda3\\lib\\site-packages (from tensorboard<3,>=2.3.0->tensorflow) (49.2.0.post20200714)\n",
      "Requirement already satisfied: markdown>=2.6.8 in e:\\users\\vaishnavi m shetty\\anaconda3\\lib\\site-packages (from tensorboard<3,>=2.3.0->tensorflow) (3.2.2)\n",
      "Requirement already satisfied: google-auth<2,>=1.6.3 in e:\\users\\vaishnavi m shetty\\anaconda3\\lib\\site-packages (from tensorboard<3,>=2.3.0->tensorflow) (1.21.2)\n",
      "Requirement already satisfied: werkzeug>=0.11.15 in e:\\users\\vaishnavi m shetty\\anaconda3\\lib\\site-packages (from tensorboard<3,>=2.3.0->tensorflow) (1.0.1)\n",
      "Requirement already satisfied: google-auth-oauthlib<0.5,>=0.4.1 in e:\\users\\vaishnavi m shetty\\anaconda3\\lib\\site-packages (from tensorboard<3,>=2.3.0->tensorflow) (0.4.1)\n",
      "Requirement already satisfied: tensorboard-plugin-wit>=1.6.0 in e:\\users\\vaishnavi m shetty\\anaconda3\\lib\\site-packages (from tensorboard<3,>=2.3.0->tensorflow) (1.7.0)\n",
      "Requirement already satisfied: urllib3!=1.25.0,!=1.25.1,<1.26,>=1.21.1 in e:\\users\\vaishnavi m shetty\\anaconda3\\lib\\site-packages (from requests<3,>=2.21.0->tensorboard<3,>=2.3.0->tensorflow) (1.25.9)\n",
      "Requirement already satisfied: certifi>=2017.4.17 in e:\\users\\vaishnavi m shetty\\anaconda3\\lib\\site-packages (from requests<3,>=2.21.0->tensorboard<3,>=2.3.0->tensorflow) (2020.6.20)\n",
      "Requirement already satisfied: chardet<4,>=3.0.2 in e:\\users\\vaishnavi m shetty\\anaconda3\\lib\\site-packages (from requests<3,>=2.21.0->tensorboard<3,>=2.3.0->tensorflow) (3.0.4)\n",
      "Requirement already satisfied: idna<3,>=2.5 in e:\\users\\vaishnavi m shetty\\anaconda3\\lib\\site-packages (from requests<3,>=2.21.0->tensorboard<3,>=2.3.0->tensorflow) (2.10)\n",
      "Requirement already satisfied: rsa<5,>=3.1.4; python_version >= \"3.5\" in e:\\users\\vaishnavi m shetty\\anaconda3\\lib\\site-packages (from google-auth<2,>=1.6.3->tensorboard<3,>=2.3.0->tensorflow) (4.6)\n",
      "Requirement already satisfied: cachetools<5.0,>=2.0.0 in e:\\users\\vaishnavi m shetty\\anaconda3\\lib\\site-packages (from google-auth<2,>=1.6.3->tensorboard<3,>=2.3.0->tensorflow) (4.1.1)\n",
      "Requirement already satisfied: pyasn1-modules>=0.2.1 in e:\\users\\vaishnavi m shetty\\anaconda3\\lib\\site-packages (from google-auth<2,>=1.6.3->tensorboard<3,>=2.3.0->tensorflow) (0.2.8)\n",
      "Requirement already satisfied: requests-oauthlib>=0.7.0 in e:\\users\\vaishnavi m shetty\\anaconda3\\lib\\site-packages (from google-auth-oauthlib<0.5,>=0.4.1->tensorboard<3,>=2.3.0->tensorflow) (1.3.0)\n",
      "Requirement already satisfied: pyasn1>=0.1.3 in e:\\users\\vaishnavi m shetty\\anaconda3\\lib\\site-packages (from rsa<5,>=3.1.4; python_version >= \"3.5\"->google-auth<2,>=1.6.3->tensorboard<3,>=2.3.0->tensorflow) (0.4.8)\n",
      "Requirement already satisfied: oauthlib>=3.0.0 in e:\\users\\vaishnavi m shetty\\anaconda3\\lib\\site-packages (from requests-oauthlib>=0.7.0->google-auth-oauthlib<0.5,>=0.4.1->tensorboard<3,>=2.3.0->tensorflow) (3.1.0)\n"
     ]
    }
   ],
   "source": [
    "!pip install tensorflow"
   ]
  },
  {
   "cell_type": "markdown",
   "metadata": {},
   "source": [
    "#### Importing Packages "
   ]
  },
  {
   "cell_type": "code",
   "execution_count": 1,
   "metadata": {},
   "outputs": [],
   "source": [
    "import tensorflow as tf"
   ]
  },
  {
   "cell_type": "code",
   "execution_count": 2,
   "metadata": {},
   "outputs": [],
   "source": [
    "import pandas as pd \n",
    "import numpy as np"
   ]
  },
  {
   "cell_type": "code",
   "execution_count": 3,
   "metadata": {},
   "outputs": [],
   "source": [
    "import matplotlib.pyplot as plt\n",
    "from sklearn.model_selection import train_test_split\n",
    "from sklearn import preprocessing\n",
    "from subprocess import check_output"
   ]
  },
  {
   "cell_type": "code",
   "execution_count": 4,
   "metadata": {},
   "outputs": [],
   "source": [
    "import pickle"
   ]
  },
  {
   "cell_type": "code",
   "execution_count": 6,
   "metadata": {},
   "outputs": [],
   "source": [
    "from imblearn.over_sampling import SMOTE"
   ]
  },
  {
   "cell_type": "code",
   "execution_count": 8,
   "metadata": {},
   "outputs": [],
   "source": [
    "from collections import Counter "
   ]
  },
  {
   "cell_type": "code",
   "execution_count": 10,
   "metadata": {},
   "outputs": [],
   "source": [
    "import tensorflow as tf"
   ]
  },
  {
   "cell_type": "code",
   "execution_count": 11,
   "metadata": {},
   "outputs": [],
   "source": [
    "from tensorflow import keras"
   ]
  },
  {
   "cell_type": "code",
   "execution_count": 12,
   "metadata": {},
   "outputs": [],
   "source": [
    "from keras.models import Sequential\n",
    "from keras.layers import Dense\n",
    "\n",
    "from keras.optimizers import Adam\n",
    "from keras.callbacks import ReduceLROnPlateau, EarlyStopping\n",
    "from sklearn.metrics import average_precision_score, confusion_matrix\n",
    "import matplotlib.pyplot as plt"
   ]
  },
  {
   "cell_type": "code",
   "execution_count": 58,
   "metadata": {},
   "outputs": [],
   "source": [
    "from sklearn import metrics"
   ]
  },
  {
   "cell_type": "markdown",
   "metadata": {},
   "source": [
    "Reading and modifying the dataframe using SMOTE "
   ]
  },
  {
   "cell_type": "code",
   "execution_count": 5,
   "metadata": {},
   "outputs": [],
   "source": [
    " df= pd.read_pickle('C:/Users/Vaishnavi M Shetty/Desktop/dfmod.pickle')"
   ]
  },
  {
   "cell_type": "code",
   "execution_count": 7,
   "metadata": {},
   "outputs": [],
   "source": [
    "X = df.drop('Class', axis=1)\n",
    "y = df['Class']"
   ]
  },
  {
   "cell_type": "code",
   "execution_count": 9,
   "metadata": {},
   "outputs": [
    {
     "name": "stdout",
     "output_type": "stream",
     "text": [
      "Original dataset shape Counter({0: 284306, 1: 492})\n",
      "Resampled dataset shape Counter({0: 284306, 1: 284306})\n"
     ]
    }
   ],
   "source": [
    "print('Original dataset shape %s' % Counter(y))\n",
    "smote = SMOTE(random_state=42)\n",
    "X_smote, y_smote = smote.fit_resample(X, y)\n",
    "print('Resampled dataset shape %s' % Counter(y_smote))\n",
    "# Slit into train and test datasets\n",
    "X_train_smote, X_test_smote, y_train_smote, y_test_smote = train_test_split(X_smote, y_smote, test_size=0.25, random_state=42)"
   ]
  },
  {
   "cell_type": "markdown",
   "metadata": {},
   "source": [
    "The dataframe has been processed and oversampled using SMOTE. Now, we will build an artificial neural network to train on our dataset <br>\n",
    "\n",
    "## Building the model"
   ]
  },
  {
   "cell_type": "code",
   "execution_count": 17,
   "metadata": {},
   "outputs": [],
   "source": [
    "model = Sequential()\n",
    "model.add(Dense(64, activation=\"relu\", input_dim=(X_train_smote.shape[1])))\n",
    "\n",
    "model.add(Dense(32, activation=\"relu\"))\n",
    "model.add(Dense(16, activation=\"relu\"))\n",
    "model.add(Dense(8, activation=\"relu\"))\n",
    "model.add(Dense(4, activation=\"relu\"))\n",
    "model.add(Dense(2, activation=\"relu\"))\n",
    "\n",
    "model.add(Dense(1, activation=\"sigmoid\"))\n",
    "model.compile(optimizer=Adam(lr=1e-4), loss=\"binary_crossentropy\", metrics=[\"accuracy\"])"
   ]
  },
  {
   "cell_type": "markdown",
   "metadata": {},
   "source": [
    "Build a Sequential model using keras with 5 dense layers each with activation function \"ReLu\". The Output Layer uses sigmoid activation function to get a binary output.<br>\n",
    "After much tuning we will use ADAM optimizer with a learning rate of 1e-4. <br>\n",
    "We are not building a very deep neural network as the dataframe is not big."
   ]
  },
  {
   "cell_type": "code",
   "execution_count": 14,
   "metadata": {},
   "outputs": [
    {
     "name": "stdout",
     "output_type": "stream",
     "text": [
      "Model: \"sequential\"\n",
      "_________________________________________________________________\n",
      "Layer (type)                 Output Shape              Param #   \n",
      "=================================================================\n",
      "dense (Dense)                (None, 64)                2240      \n",
      "_________________________________________________________________\n",
      "dense_1 (Dense)              (None, 32)                2080      \n",
      "_________________________________________________________________\n",
      "dense_2 (Dense)              (None, 16)                528       \n",
      "_________________________________________________________________\n",
      "dense_3 (Dense)              (None, 8)                 136       \n",
      "_________________________________________________________________\n",
      "dense_4 (Dense)              (None, 4)                 36        \n",
      "_________________________________________________________________\n",
      "dense_5 (Dense)              (None, 2)                 10        \n",
      "_________________________________________________________________\n",
      "dense_6 (Dense)              (None, 1)                 3         \n",
      "=================================================================\n",
      "Total params: 5,033\n",
      "Trainable params: 5,033\n",
      "Non-trainable params: 0\n",
      "_________________________________________________________________\n"
     ]
    }
   ],
   "source": [
    "model.summary()"
   ]
  },
  {
   "cell_type": "code",
   "execution_count": 16,
   "metadata": {},
   "outputs": [
    {
     "name": "stderr",
     "output_type": "stream",
     "text": [
      "E:\\Users\\Vaishnavi M Shetty\\anaconda3\\lib\\site-packages\\pandas\\core\\frame.py:3990: SettingWithCopyWarning: \n",
      "A value is trying to be set on a copy of a slice from a DataFrame\n",
      "\n",
      "See the caveats in the documentation: https://pandas.pydata.org/pandas-docs/stable/user_guide/indexing.html#returning-a-view-versus-a-copy\n",
      "  return super().drop(\n"
     ]
    }
   ],
   "source": [
    "X_test_smote.drop('Time', axis=1, inplace=True)"
   ]
  },
  {
   "cell_type": "code",
   "execution_count": 43,
   "metadata": {},
   "outputs": [
    {
     "data": {
      "text/plain": [
       "Index(['Time', 'V1', 'V2', 'V3', 'V4', 'V5', 'V6', 'V7', 'V8', 'V9', 'V10',\n",
       "       'V11', 'V12', 'V13', 'V14', 'V15', 'V16', 'V17', 'V18', 'V19', 'V20',\n",
       "       'V21', 'V22', 'V23', 'V24', 'V25', 'V26', 'V27', 'V28', 'Amount',\n",
       "       'average', 'min', 'time_difference', 'cond'],\n",
       "      dtype='object')"
      ]
     },
     "execution_count": 43,
     "metadata": {},
     "output_type": "execute_result"
    }
   ],
   "source": [
    " X_train.columns"
   ]
  },
  {
   "cell_type": "code",
   "execution_count": 48,
   "metadata": {},
   "outputs": [
    {
     "data": {
      "text/plain": [
       "Index(['V1', 'V2', 'V3', 'V4', 'V5', 'V6', 'V7', 'V8', 'V9', 'V10', 'V11',\n",
       "       'V12', 'V13', 'V14', 'V15', 'V16', 'V17', 'V18', 'V19', 'V20', 'V21',\n",
       "       'V22', 'V23', 'V24', 'V25', 'V26', 'V27', 'V28', 'Amount', 'average',\n",
       "       'min', 'time_difference', 'cond'],\n",
       "      dtype='object')"
      ]
     },
     "execution_count": 48,
     "metadata": {},
     "output_type": "execute_result"
    }
   ],
   "source": [
    "X_train_smote.columns"
   ]
  },
  {
   "cell_type": "markdown",
   "metadata": {},
   "source": [
    "## Training the Neural Network "
   ]
  },
  {
   "cell_type": "code",
   "execution_count": 56,
   "metadata": {},
   "outputs": [
    {
     "name": "stdout",
     "output_type": "stream",
     "text": [
      "Epoch 1/100\n",
      "13327/13327 [==============================] - 17s 1ms/step - loss: 0.0086 - accuracy: 0.9975 - val_loss: 0.0094 - val_accuracy: 0.9972\n",
      "Epoch 2/100\n",
      "13327/13327 [==============================] - 16s 1ms/step - loss: 0.0085 - accuracy: 0.9975 - val_loss: 0.0094 - val_accuracy: 0.9974\n",
      "Epoch 3/100\n",
      "13327/13327 [==============================] - 16s 1ms/step - loss: 0.0085 - accuracy: 0.9975 - val_loss: 0.0094 - val_accuracy: 0.9972\n",
      "Epoch 4/100\n",
      "13327/13327 [==============================] - 17s 1ms/step - loss: 0.0085 - accuracy: 0.9975 - val_loss: 0.0095 - val_accuracy: 0.9971\n",
      "Epoch 5/100\n",
      "13327/13327 [==============================] - 16s 1ms/step - loss: 0.0085 - accuracy: 0.9976 - val_loss: 0.0094 - val_accuracy: 0.9973\n",
      "Epoch 6/100\n",
      "13327/13327 [==============================] - 16s 1ms/step - loss: 0.0085 - accuracy: 0.9976 - val_loss: 0.0094 - val_accuracy: 0.9972\n",
      "Epoch 7/100\n",
      "13327/13327 [==============================] - 16s 1ms/step - loss: 0.0085 - accuracy: 0.9976 - val_loss: 0.0093 - val_accuracy: 0.9974\n",
      "Epoch 8/100\n",
      "13327/13327 [==============================] - 16s 1ms/step - loss: 0.0084 - accuracy: 0.9976 - val_loss: 0.0096 - val_accuracy: 0.9971\n",
      "Epoch 9/100\n",
      "13327/13327 [==============================] - 17s 1ms/step - loss: 0.0084 - accuracy: 0.9976 - val_loss: 0.0094 - val_accuracy: 0.9972\n",
      "Epoch 10/100\n",
      "13327/13327 [==============================] - 16s 1ms/step - loss: 0.0084 - accuracy: 0.9976 - val_loss: 0.0093 - val_accuracy: 0.9974\n",
      "Epoch 11/100\n",
      "13327/13327 [==============================] - 18s 1ms/step - loss: 0.0084 - accuracy: 0.9976 - val_loss: 0.0093 - val_accuracy: 0.9973\n",
      "Epoch 12/100\n",
      "13327/13327 [==============================] - 27s 2ms/step - loss: 0.0084 - accuracy: 0.9976 - val_loss: 0.0093 - val_accuracy: 0.9974\n",
      "Epoch 13/100\n",
      "13327/13327 [==============================] - 24s 2ms/step - loss: 0.0084 - accuracy: 0.9976 - val_loss: 0.0092 - val_accuracy: 0.9973\n",
      "Epoch 14/100\n",
      "13327/13327 [==============================] - 24s 2ms/step - loss: 0.0083 - accuracy: 0.9977 - val_loss: 0.0094 - val_accuracy: 0.9971\n",
      "Epoch 15/100\n",
      "13327/13327 [==============================] - 24s 2ms/step - loss: 0.0084 - accuracy: 0.9976 - val_loss: 0.0092 - val_accuracy: 0.9975\n",
      "Epoch 16/100\n",
      "13327/13327 [==============================] - 22s 2ms/step - loss: 0.0083 - accuracy: 0.9976 - val_loss: 0.0092 - val_accuracy: 0.9974\n",
      "Epoch 17/100\n",
      "13327/13327 [==============================] - 20s 2ms/step - loss: 0.0083 - accuracy: 0.9976 - val_loss: 0.0092 - val_accuracy: 0.9974\n",
      "Epoch 18/100\n",
      "13327/13327 [==============================] - 21s 2ms/step - loss: 0.0083 - accuracy: 0.9976 - val_loss: 0.0091 - val_accuracy: 0.9975\n",
      "Epoch 19/100\n",
      "13327/13327 [==============================] - 20s 2ms/step - loss: 0.0083 - accuracy: 0.9977 - val_loss: 0.0092 - val_accuracy: 0.9974\n",
      "Epoch 20/100\n",
      "13327/13327 [==============================] - 21s 2ms/step - loss: 0.0083 - accuracy: 0.9976 - val_loss: 0.0091 - val_accuracy: 0.9974\n",
      "Epoch 21/100\n",
      "13327/13327 [==============================] - 25s 2ms/step - loss: 0.0082 - accuracy: 0.9977 - val_loss: 0.0091 - val_accuracy: 0.9974\n",
      "Epoch 22/100\n",
      "13327/13327 [==============================] - 25s 2ms/step - loss: 0.0082 - accuracy: 0.9977 - val_loss: 0.0091 - val_accuracy: 0.9974\n",
      "Epoch 23/100\n",
      "13327/13327 [==============================] - 22s 2ms/step - loss: 0.0082 - accuracy: 0.9977 - val_loss: 0.0091 - val_accuracy: 0.9973\n",
      "Epoch 24/100\n",
      "13327/13327 [==============================] - 21s 2ms/step - loss: 0.0082 - accuracy: 0.9977 - val_loss: 0.0092 - val_accuracy: 0.9973\n",
      "Epoch 25/100\n",
      "13327/13327 [==============================] - 21s 2ms/step - loss: 0.0082 - accuracy: 0.9977 - val_loss: 0.0091 - val_accuracy: 0.9973\n",
      "Epoch 26/100\n",
      "13327/13327 [==============================] - 21s 2ms/step - loss: 0.0082 - accuracy: 0.9977 - val_loss: 0.0090 - val_accuracy: 0.9975\n",
      "Epoch 27/100\n",
      "13327/13327 [==============================] - 21s 2ms/step - loss: 0.0082 - accuracy: 0.9977 - val_loss: 0.0090 - val_accuracy: 0.9974\n",
      "Epoch 28/100\n",
      "13327/13327 [==============================] - 21s 2ms/step - loss: 0.0082 - accuracy: 0.9977 - val_loss: 0.0090 - val_accuracy: 0.9975\n",
      "Epoch 29/100\n",
      "13327/13327 [==============================] - 22s 2ms/step - loss: 0.0081 - accuracy: 0.9977 - val_loss: 0.0092 - val_accuracy: 0.9975\n",
      "Epoch 30/100\n",
      "13327/13327 [==============================] - 21s 2ms/step - loss: 0.0081 - accuracy: 0.9977 - val_loss: 0.0089 - val_accuracy: 0.9975\n",
      "Epoch 31/100\n",
      "13327/13327 [==============================] - 21s 2ms/step - loss: 0.0081 - accuracy: 0.9977 - val_loss: 0.0090 - val_accuracy: 0.9974\n",
      "Epoch 32/100\n",
      "13327/13327 [==============================] - 21s 2ms/step - loss: 0.0081 - accuracy: 0.9978 - val_loss: 0.0091 - val_accuracy: 0.9974\n",
      "Epoch 33/100\n",
      "13327/13327 [==============================] - 21s 2ms/step - loss: 0.0081 - accuracy: 0.9978 - val_loss: 0.0089 - val_accuracy: 0.9975\n",
      "Epoch 34/100\n",
      "13327/13327 [==============================] - 21s 2ms/step - loss: 0.0081 - accuracy: 0.9978 - val_loss: 0.0090 - val_accuracy: 0.9974\n",
      "Epoch 35/100\n",
      "13327/13327 [==============================] - 23s 2ms/step - loss: 0.0081 - accuracy: 0.9978 - val_loss: 0.0089 - val_accuracy: 0.9975\n",
      "Epoch 36/100\n",
      "13327/13327 [==============================] - 22s 2ms/step - loss: 0.0081 - accuracy: 0.9978 - val_loss: 0.0092 - val_accuracy: 0.9973\n",
      "Epoch 37/100\n",
      "13327/13327 [==============================] - 21s 2ms/step - loss: 0.0080 - accuracy: 0.9978 - val_loss: 0.0090 - val_accuracy: 0.9975\n",
      "Epoch 38/100\n",
      "13327/13327 [==============================] - 21s 2ms/step - loss: 0.0080 - accuracy: 0.9978 - val_loss: 0.0088 - val_accuracy: 0.9975\n",
      "Epoch 39/100\n",
      "13327/13327 [==============================] - 21s 2ms/step - loss: 0.0080 - accuracy: 0.9978 - val_loss: 0.0089 - val_accuracy: 0.9975\n",
      "Epoch 40/100\n",
      "13327/13327 [==============================] - 21s 2ms/step - loss: 0.0080 - accuracy: 0.9977 - val_loss: 0.0088 - val_accuracy: 0.9975\n",
      "Epoch 41/100\n",
      "13327/13327 [==============================] - 20s 2ms/step - loss: 0.0080 - accuracy: 0.9978 - val_loss: 0.0088 - val_accuracy: 0.9974\n",
      "Epoch 42/100\n",
      "13327/13327 [==============================] - 20s 2ms/step - loss: 0.0080 - accuracy: 0.9978 - val_loss: 0.0088 - val_accuracy: 0.9976\n",
      "Epoch 43/100\n",
      "13327/13327 [==============================] - 21s 2ms/step - loss: 0.0079 - accuracy: 0.9978 - val_loss: 0.0088 - val_accuracy: 0.9976\n",
      "Epoch 44/100\n",
      "13327/13327 [==============================] - 23s 2ms/step - loss: 0.0079 - accuracy: 0.9978 - val_loss: 0.0088 - val_accuracy: 0.9975\n",
      "Epoch 45/100\n",
      "13327/13327 [==============================] - 22s 2ms/step - loss: 0.0079 - accuracy: 0.9978 - val_loss: 0.0089 - val_accuracy: 0.9975\n",
      "Epoch 46/100\n",
      "13327/13327 [==============================] - 23s 2ms/step - loss: 0.0079 - accuracy: 0.9978 - val_loss: 0.0088 - val_accuracy: 0.9974\n",
      "Epoch 47/100\n",
      "13327/13327 [==============================] - 24s 2ms/step - loss: 0.0079 - accuracy: 0.9978 - val_loss: 0.0087 - val_accuracy: 0.9976\n",
      "Epoch 48/100\n",
      "13327/13327 [==============================] - 24s 2ms/step - loss: 0.0079 - accuracy: 0.9978 - val_loss: 0.0088 - val_accuracy: 0.9976\n",
      "Epoch 49/100\n",
      "13327/13327 [==============================] - 23s 2ms/step - loss: 0.0079 - accuracy: 0.9979 - val_loss: 0.0089 - val_accuracy: 0.9975\n",
      "Epoch 50/100\n",
      "13327/13327 [==============================] - 23s 2ms/step - loss: 0.0078 - accuracy: 0.9978 - val_loss: 0.0087 - val_accuracy: 0.9975\n",
      "Epoch 51/100\n",
      "13327/13327 [==============================] - 24s 2ms/step - loss: 0.0079 - accuracy: 0.9978 - val_loss: 0.0087 - val_accuracy: 0.9975\n",
      "Epoch 52/100\n",
      "13327/13327 [==============================] - 23s 2ms/step - loss: 0.0078 - accuracy: 0.9978 - val_loss: 0.0088 - val_accuracy: 0.9975\n",
      "Epoch 53/100\n",
      "13327/13327 [==============================] - 23s 2ms/step - loss: 0.0078 - accuracy: 0.9979 - val_loss: 0.0086 - val_accuracy: 0.9976\n",
      "Epoch 54/100\n",
      "13327/13327 [==============================] - 23s 2ms/step - loss: 0.0078 - accuracy: 0.9979 - val_loss: 0.0086 - val_accuracy: 0.9976\n",
      "Epoch 55/100\n",
      "13327/13327 [==============================] - 23s 2ms/step - loss: 0.0078 - accuracy: 0.9979 - val_loss: 0.0086 - val_accuracy: 0.9976\n",
      "Epoch 56/100\n",
      "13327/13327 [==============================] - 24s 2ms/step - loss: 0.0078 - accuracy: 0.9979 - val_loss: 0.0086 - val_accuracy: 0.9975\n",
      "Epoch 57/100\n",
      "13327/13327 [==============================] - 24s 2ms/step - loss: 0.0078 - accuracy: 0.9979 - val_loss: 0.0087 - val_accuracy: 0.9975\n",
      "Epoch 58/100\n",
      "13327/13327 [==============================] - 23s 2ms/step - loss: 0.0077 - accuracy: 0.9979 - val_loss: 0.0086 - val_accuracy: 0.9975\n",
      "Epoch 59/100\n",
      "13327/13327 [==============================] - 24s 2ms/step - loss: 0.0077 - accuracy: 0.9979 - val_loss: 0.0087 - val_accuracy: 0.9975\n",
      "Epoch 60/100\n",
      "13327/13327 [==============================] - 24s 2ms/step - loss: 0.0077 - accuracy: 0.9979 - val_loss: 0.0085 - val_accuracy: 0.9976\n",
      "Epoch 61/100\n",
      "13327/13327 [==============================] - 22s 2ms/step - loss: 0.0077 - accuracy: 0.9979 - val_loss: 0.0086 - val_accuracy: 0.9976\n",
      "Epoch 62/100\n",
      "13327/13327 [==============================] - 20s 2ms/step - loss: 0.0077 - accuracy: 0.9979 - val_loss: 0.0086 - val_accuracy: 0.9976\n",
      "Epoch 63/100\n",
      "13327/13327 [==============================] - 20s 2ms/step - loss: 0.0077 - accuracy: 0.9979 - val_loss: 0.0086 - val_accuracy: 0.9976\n",
      "Epoch 64/100\n",
      "13327/13327 [==============================] - 20s 2ms/step - loss: 0.0077 - accuracy: 0.9979 - val_loss: 0.0085 - val_accuracy: 0.9976\n",
      "Epoch 65/100\n",
      "13327/13327 [==============================] - 20s 2ms/step - loss: 0.0077 - accuracy: 0.9979 - val_loss: 0.0085 - val_accuracy: 0.9976\n",
      "Epoch 00065: early stopping\n"
     ]
    }
   ],
   "source": [
    "history = model.fit(X_train_smote, \n",
    "                    y_train_smote, \n",
    "                    epochs=100, \n",
    "                    validation_data=(X_test_smote, y_test_smote), \n",
    "                    callbacks=[ReduceLROnPlateau(patience=3, verbose=1, min_lr=1e-6), \n",
    "                               EarlyStopping(patience=5, verbose=1)])"
   ]
  },
  {
   "cell_type": "markdown",
   "metadata": {},
   "source": [
    "### Evaluating our model "
   ]
  },
  {
   "cell_type": "code",
   "execution_count": 59,
   "metadata": {},
   "outputs": [
    {
     "name": "stdout",
     "output_type": "stream",
     "text": [
      "The model test auc score is 0.9975920125319466.\n"
     ]
    }
   ],
   "source": [
    "predictions = model.predict_classes(X_test_smote)\n",
    "ap_score = metrics.roc_auc_score(y_test_smote, predictions)\n",
    "print(\"The model test auc score is {}.\".format(ap_score))"
   ]
  },
  {
   "cell_type": "markdown",
   "metadata": {},
   "source": [
    "Saving the model weights in .h5 format using keras."
   ]
  },
  {
   "cell_type": "code",
   "execution_count": 69,
   "metadata": {},
   "outputs": [],
   "source": [
    "from keras.models import model_from_json\n",
    "model_json = model.to_json()\n",
    "with open(\"model.json\", \"w\") as json_file:\n",
    "    json_file.write(model_json)\n",
    "\n",
    "model.save_weights(\"model_nn.h5\")"
   ]
  },
  {
   "cell_type": "code",
   "execution_count": 70,
   "metadata": {},
   "outputs": [],
   "source": [
    "file = open('model.json', 'r')\n",
    "loaded  = file.read()\n",
    "file.close()\n",
    "\n",
    "loaded_model = model_from_json(loaded)\n",
    "loaded_model.load_weights(\"model_nn.h5\")"
   ]
  },
  {
   "cell_type": "code",
   "execution_count": 71,
   "metadata": {},
   "outputs": [
    {
     "name": "stdout",
     "output_type": "stream",
     "text": [
      "Model: \"sequential_3\"\n",
      "_________________________________________________________________\n",
      "Layer (type)                 Output Shape              Param #   \n",
      "=================================================================\n",
      "dense_7 (Dense)              (None, 64)                2176      \n",
      "_________________________________________________________________\n",
      "dense_8 (Dense)              (None, 32)                2080      \n",
      "_________________________________________________________________\n",
      "dense_9 (Dense)              (None, 16)                528       \n",
      "_________________________________________________________________\n",
      "dense_10 (Dense)             (None, 8)                 136       \n",
      "_________________________________________________________________\n",
      "dense_11 (Dense)             (None, 4)                 36        \n",
      "_________________________________________________________________\n",
      "dense_12 (Dense)             (None, 2)                 10        \n",
      "_________________________________________________________________\n",
      "dense_13 (Dense)             (None, 1)                 3         \n",
      "=================================================================\n",
      "Total params: 4,969\n",
      "Trainable params: 4,969\n",
      "Non-trainable params: 0\n",
      "_________________________________________________________________\n"
     ]
    }
   ],
   "source": [
    "loaded_model.summary()"
   ]
  },
  {
   "cell_type": "markdown",
   "metadata": {},
   "source": [
    "THANK YOU"
   ]
  }
 ],
 "metadata": {
  "kernelspec": {
   "display_name": "Python 3",
   "language": "python",
   "name": "python3"
  },
  "language_info": {
   "codemirror_mode": {
    "name": "ipython",
    "version": 3
   },
   "file_extension": ".py",
   "mimetype": "text/x-python",
   "name": "python",
   "nbconvert_exporter": "python",
   "pygments_lexer": "ipython3",
   "version": "3.8.3"
  }
 },
 "nbformat": 4,
 "nbformat_minor": 4
}
